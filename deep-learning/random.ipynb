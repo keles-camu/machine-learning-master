{
 "cells": [
  {
   "cell_type": "code",
   "execution_count": 3,
   "id": "7ca5370c-b00e-42e7-876b-02bfa4a90613",
   "metadata": {},
   "outputs": [
    {
     "name": "stdout",
     "output_type": "stream",
     "text": [
      "tf.Tensor([0.3274685], shape=(1,), dtype=float32)\n",
      "tf.Tensor([0.08422458], shape=(1,), dtype=float32)\n"
     ]
    }
   ],
   "source": [
    "import tensorflow as tf\n",
    "\n",
    "# Set the random seed\n",
    "tf.random.set_seed(42)\n",
    "\n",
    "# Generate some random numbers\n",
    "a = tf.random.normal([1])\n",
    "b = tf.random.normal([1])\n",
    "\n",
    "# Check that the results are the same every time\n",
    "print(a)\n",
    "print(b)"
   ]
  },
  {
   "cell_type": "code",
   "execution_count": 9,
   "id": "16071049-13a1-4c95-902b-4ac5886f582f",
   "metadata": {},
   "outputs": [
    {
     "name": "stdout",
     "output_type": "stream",
     "text": [
      "tf.Tensor([0.457556], shape=(1,), dtype=float32)\n",
      "tf.Tensor([1.2668815], shape=(1,), dtype=float32)\n"
     ]
    }
   ],
   "source": [
    "import tensorflow as tf\n",
    "\n",
    "# Generate some random numbers with a specific seed\n",
    "a = tf.random.normal([1], seed=42)\n",
    "b = tf.random.normal([1], seed=42)\n",
    "\n",
    "# Check that the results are the same every time\n",
    "print(a)\n",
    "print(b)"
   ]
  },
  {
   "cell_type": "code",
   "execution_count": null,
   "id": "0cc93a1c-f7f3-4230-b3fc-0c87d9eae5cf",
   "metadata": {},
   "outputs": [],
   "source": []
  },
  {
   "cell_type": "code",
   "execution_count": null,
   "id": "100c6d53-8b1f-41f4-9f13-ddd1087dc462",
   "metadata": {},
   "outputs": [],
   "source": []
  }
 ],
 "metadata": {
  "kernelspec": {
   "display_name": "Python 3 (ipykernel)",
   "language": "python",
   "name": "python3"
  },
  "language_info": {
   "codemirror_mode": {
    "name": "ipython",
    "version": 3
   },
   "file_extension": ".py",
   "mimetype": "text/x-python",
   "name": "python",
   "nbconvert_exporter": "python",
   "pygments_lexer": "ipython3",
   "version": "3.11.5"
  }
 },
 "nbformat": 4,
 "nbformat_minor": 5
}

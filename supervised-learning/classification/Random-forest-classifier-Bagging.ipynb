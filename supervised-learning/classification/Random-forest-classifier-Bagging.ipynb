{
 "cells": [
  {
   "cell_type": "code",
   "execution_count": 1,
   "id": "09361027",
   "metadata": {},
   "outputs": [
    {
     "name": "stdout",
     "output_type": "stream",
     "text": [
      "2\n"
     ]
    },
    {
     "data": {
      "image/png": "[encoded data removed]",
      "text/plain": [
       "<Figure size 640x480 with 1 Axes>"
      ]
     },
     "metadata": {},
     "output_type": "display_data"
    }
   ],
   "source": [
    "# Importación de librerías\n",
    "\n",
    "import pandas as pd\n",
    "import matplotlib.pyplot as plt\n",
    "from sklearn.datasets import load_digits\n",
    "from sklearn.ensemble import RandomForestClassifier\n",
    "from sklearn.model_selection import GridSearchCV\n",
    "from sklearn.model_selection import train_test_split\n",
    "\n",
    "# Cargo un dataset de imágenes de números\n",
    "\n",
    "digits = load_digits()\n",
    "X, y = digits.data, digits.target\n",
    "idx = 2\n",
    "img = X[idx,:].reshape(8, 8)\n",
    "print(y[idx])\n",
    "plt.imshow(img, cmap=\"gray\")\n",
    "plt.show()"
   ]
  },
  {
   "cell_type": "code",
   "execution_count": 2,
   "id": "1bb28e94",
   "metadata": {},
   "outputs": [
    {
     "name": "stdout",
     "output_type": "stream",
     "text": [
      "Mejores parámetros del modelo: {'max_depth': 9, 'max_features': 10, 'n_estimators': 100}\n",
      "- Accuracy de los datos de train: 1.0 \n",
      "- Accuracy de los datos de test: 0.98\n"
     ]
    }
   ],
   "source": [
    "# Se separan los datos en train + test\n",
    "\n",
    "X_train, X_test, y_train, y_test = train_test_split(X, y, random_state=42)\n",
    "\n",
    "# Se define un modelo Random Forest y se encuentran los mejores hiperparámetros\n",
    "\n",
    "clf = RandomForestClassifier()\n",
    "params = {\"n_estimators\" : [10, 50, 100, 200],\n",
    "         \"max_depth\" : [5, 7, 9],\n",
    "         \"max_features\": [10, \"sqrt\"]}\n",
    "clf_grid = GridSearchCV(clf, params, cv=3, n_jobs=-1)\n",
    "clf_grid.fit(X_train, y_train)\n",
    "print(u'Mejores parámetros del modelo: {}'.format(clf_grid.best_params_))\n",
    "print('- Accuracy de los datos de train: {} \\n- Accuracy de los datos de test: {}'\\\n",
    "                        .format(clf_grid.score(X_train, y_train), \n",
    "                        round(clf_grid.score(X_test, y_test),2)))"
   ]
  },
  {
   "cell_type": "code",
   "execution_count": null,
   "id": "d2f8fb53",
   "metadata": {},
   "outputs": [],
   "source": []
  }
 ],
 "metadata": {
  "kernelspec": {
   "display_name": "Python 3 (ipykernel)",
   "language": "python",
   "name": "python3"
  },
  "language_info": {
   "codemirror_mode": {
    "name": "ipython",
    "version": 3
   },
   "file_extension": ".py",
   "mimetype": "text/x-python",
   "name": "python",
   "nbconvert_exporter": "python",
   "pygments_lexer": "ipython3",
   "version": "3.11.5"
  }
 },
 "nbformat": 4,
 "nbformat_minor": 5
}

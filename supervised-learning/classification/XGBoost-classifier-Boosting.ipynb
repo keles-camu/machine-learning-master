{
 "cells": [
  {
   "cell_type": "code",
   "execution_count": 1,
   "id": "202a2fc0",
   "metadata": {},
   "outputs": [
    {
     "name": "stdout",
     "output_type": "stream",
     "text": [
      "[12:17:37] WARNING: /Users/runner/work/xgboost/xgboost/python-package/build/temp.macosx-11.0-arm64-cpython-38/xgboost/src/learner.cc:767: \n",
      "Parameters: { \"objetive\" } are not used.\n",
      "\n",
      "- Accuracy en train: 1.0\n",
      "- Accuracy en test: 0.98\n"
     ]
    }
   ],
   "source": [
    "# Importación de librerías\n",
    "\n",
    "import xgboost as xgb\n",
    "from sklearn.model_selection import train_test_split\n",
    "from sklearn.datasets import load_digits\n",
    "from sklearn.metrics import accuracy_score\n",
    "\n",
    "# Se carga un dataset de imágenes de números\n",
    "\n",
    "digits = load_digits()\n",
    "X, y = digits.data, digits.target\n",
    "\n",
    "# Se separan los datos en train + test\n",
    "\n",
    "X_train, X_test, y_train, y_test = train_test_split(X, y, random_state=42)\n",
    "dtrain = xgb.DMatrix(data=X_train, label=y_train)\n",
    "dtest = xgb.DMatrix(data=X_test, label=y_test)\n",
    "\n",
    "# Se obtienen los mejores hiperparámetros\n",
    "\n",
    "params = {\"max_depth\":5, \"eta\":0.25, \"subsample\":0.5,\n",
    "          \"objetive\":\"multi:softprob\", \"num_class\":10}\n",
    "n_round = 200\n",
    "model = xgb.train(params, dtrain, n_round)\n",
    "\n",
    "# Predicción de train y test\n",
    "\n",
    "pred_train = model.predict(dtrain)\n",
    "preds = model.predict(dtest)\n",
    "print(u'- Accuracy en train: {}'.format(accuracy_score(y_train, pred_train)))\n",
    "print(u'- Accuracy en test: {}'.format(round(accuracy_score(y_test, preds),2)))"
   ]
  },
  {
   "cell_type": "markdown",
   "id": "8769e1f1",
   "metadata": {},
   "source": [
    "Es un algoritmo muy eficiente en problemas de clases desbalanceadas. Es decir, en problemas donde haya un gran desequilibrio en el número de muestras en cada clase. Esto se debe a que el boosting tiene más en cuenta los errores, por lo que es una manera de tratar las clases menos repetidas."
   ]
  },
  {
   "cell_type": "code",
   "execution_count": null,
   "id": "2e06ecee",
   "metadata": {},
   "outputs": [],
   "source": []
  }
 ],
 "metadata": {
  "kernelspec": {
   "display_name": "Python 3 (ipykernel)",
   "language": "python",
   "name": "python3"
  },
  "language_info": {
   "codemirror_mode": {
    "name": "ipython",
    "version": 3
   },
   "file_extension": ".py",
   "mimetype": "text/x-python",
   "name": "python",
   "nbconvert_exporter": "python",
   "pygments_lexer": "ipython3",
   "version": "3.11.5"
  }
 },
 "nbformat": 4,
 "nbformat_minor": 5
}
